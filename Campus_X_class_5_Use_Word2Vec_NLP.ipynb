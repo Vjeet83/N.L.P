{
  "nbformat": 4,
  "nbformat_minor": 0,
  "metadata": {
    "colab": {
      "provenance": [],
      "toc_visible": true
    },
    "kernelspec": {
      "name": "python3",
      "display_name": "Python 3"
    },
    "language_info": {
      "name": "python"
    }
  },
  "cells": [
    {
      "cell_type": "code",
      "execution_count": null,
      "metadata": {
        "id": "r6jhlJjT8dC2"
      },
      "outputs": [],
      "source": [
        "import gensim\n"
      ]
    },
    {
      "cell_type": "code",
      "source": [
        "import numpy as np\n",
        "import pandas as pd"
      ],
      "metadata": {
        "id": "oW8g24LE8hjn"
      },
      "execution_count": null,
      "outputs": []
    },
    {
      "cell_type": "code",
      "source": [
        "import nltk\n",
        "from nltk import sent_tokenize\n",
        "from gensim.utils import simple_preprocess\n",
        "nltk.download('punkt')"
      ],
      "metadata": {
        "colab": {
          "base_uri": "https://localhost:8080/"
        },
        "id": "NdPNIQJhySeh",
        "outputId": "884cf037-4c53-4c0a-95aa-6904cb3a5618"
      },
      "execution_count": null,
      "outputs": [
        {
          "output_type": "stream",
          "name": "stderr",
          "text": [
            "[nltk_data] Downloading package punkt to /root/nltk_data...\n",
            "[nltk_data]   Package punkt is already up-to-date!\n"
          ]
        },
        {
          "output_type": "execute_result",
          "data": {
            "text/plain": [
              "True"
            ]
          },
          "metadata": {},
          "execution_count": 58
        }
      ]
    },
    {
      "cell_type": "code",
      "source": [
        "# # !pip install chardet\n",
        "# import chardet\n",
        "\n",
        "# story =[]\n",
        "# for i in range(1, 6):\n",
        "#   filename = f'00{i}ssb.txt'\n",
        "#   with open(filename, 'rb') as f:\n",
        "#     encoding = chardet.detect(f.read())['encoding']\n",
        "#     f.seek(0)\n",
        "#     lines = f.readlines()\n",
        "#     for line in lines:\n",
        "#       corpus.append(line.strip())"
      ],
      "metadata": {
        "id": "GmhnrUqRyy1A"
      },
      "execution_count": null,
      "outputs": []
    },
    {
      "cell_type": "code",
      "source": [],
      "metadata": {
        "id": "I2NtBNUlzFJt"
      },
      "execution_count": null,
      "outputs": []
    },
    {
      "cell_type": "code",
      "source": [
        "story2 = []\n",
        "for i in range(1, 6):\n",
        "    filename = f\"00{i}ssb.txt\"\n",
        "    with open(filename, 'r', encoding='iso-8859-1') as f:\n",
        "        corpus = f.read()\n",
        "        raw_sentences = sent_tokenize(corpus)\n",
        "        for sentence in raw_sentences:\n",
        "            processed_sentence = simple_preprocess(sentence)\n",
        "            story2.append(processed_sentence)\n"
      ],
      "metadata": {
        "id": "1BSmVjJT5JtJ"
      },
      "execution_count": null,
      "outputs": []
    },
    {
      "cell_type": "code",
      "source": [
        "len(story2)"
      ],
      "metadata": {
        "colab": {
          "base_uri": "https://localhost:8080/"
        },
        "id": "HlnFUg5b-SOV",
        "outputId": "4b3e7302-4421-4e0c-c1cb-46bb722a4ab5"
      },
      "execution_count": null,
      "outputs": [
        {
          "output_type": "execute_result",
          "data": {
            "text/plain": [
              "145020"
            ]
          },
          "metadata": {},
          "execution_count": 61
        }
      ]
    },
    {
      "cell_type": "code",
      "source": [
        "model = gensim.models.Word2Vec(\n",
        "    window = 10 ,\n",
        "    min_count = 2,\n",
        "\n",
        ")"
      ],
      "metadata": {
        "id": "LnbS-SLC-X8R"
      },
      "execution_count": null,
      "outputs": []
    },
    {
      "cell_type": "code",
      "source": [
        "model.build_vocab(story2)   # to built vocabulary (extract unique words)"
      ],
      "metadata": {
        "id": "t-macoDdACiA"
      },
      "execution_count": null,
      "outputs": []
    },
    {
      "cell_type": "code",
      "source": [
        "model.train(story2 , total_examples = model.corpus_count,epochs = model.epochs)"
      ],
      "metadata": {
        "colab": {
          "base_uri": "https://localhost:8080/"
        },
        "id": "Keb5fY2XBUvl",
        "outputId": "63009f0d-32e9-4e12-8476-1f835419957a"
      },
      "execution_count": null,
      "outputs": [
        {
          "output_type": "execute_result",
          "data": {
            "text/plain": [
              "(6568796, 8628190)"
            ]
          },
          "metadata": {},
          "execution_count": 64
        }
      ]
    },
    {
      "cell_type": "code",
      "source": [
        "model.wv.most_similar('daenerys')    # here WV mean word2Vec"
      ],
      "metadata": {
        "colab": {
          "base_uri": "https://localhost:8080/"
        },
        "id": "MyaV9FF8Ba4s",
        "outputId": "ce74c1ac-749c-4ed1-e2f2-df7d65bff216"
      },
      "execution_count": null,
      "outputs": [
        {
          "output_type": "execute_result",
          "data": {
            "text/plain": [
              "[('stormborn', 0.8348742723464966),\n",
              " ('targaryen', 0.7491695284843445),\n",
              " ('unburnt', 0.7277236580848694),\n",
              " ('elia', 0.7204764485359192),\n",
              " ('myrcella', 0.713224470615387),\n",
              " ('princess', 0.6984471082687378),\n",
              " ('queen', 0.6802313923835754),\n",
              " ('viserys', 0.6674894094467163),\n",
              " ('dorne', 0.6495381593704224),\n",
              " ('khal', 0.6473177671432495)]"
            ]
          },
          "metadata": {},
          "execution_count": 66
        }
      ]
    },
    {
      "cell_type": "code",
      "source": [
        "model.wv.doesnt_match(['jon','rikon','robb','arya','sansa','bran'])"
      ],
      "metadata": {
        "colab": {
          "base_uri": "https://localhost:8080/",
          "height": 53
        },
        "id": "R7bWBDnYCTPm",
        "outputId": "27ed42d8-4407-4dc5-b02a-bc293529ff26"
      },
      "execution_count": null,
      "outputs": [
        {
          "output_type": "stream",
          "name": "stderr",
          "text": [
            "WARNING:gensim.models.keyedvectors:vectors for words {'rikon'} are not present in the model, ignoring these words\n"
          ]
        },
        {
          "output_type": "execute_result",
          "data": {
            "text/plain": [
              "'jon'"
            ],
            "application/vnd.google.colaboratory.intrinsic+json": {
              "type": "string"
            }
          },
          "metadata": {},
          "execution_count": 68
        }
      ]
    },
    {
      "cell_type": "code",
      "source": [
        "model.wv.doesnt_match(['cersei','jaime','bronn','tyrion'])"
      ],
      "metadata": {
        "colab": {
          "base_uri": "https://localhost:8080/",
          "height": 35
        },
        "id": "_C__bzazEy32",
        "outputId": "2c8bce9e-033e-4d0e-81bd-4bf3cf0b086c"
      },
      "execution_count": null,
      "outputs": [
        {
          "output_type": "execute_result",
          "data": {
            "text/plain": [
              "'bronn'"
            ],
            "application/vnd.google.colaboratory.intrinsic+json": {
              "type": "string"
            }
          },
          "metadata": {},
          "execution_count": 71
        }
      ]
    },
    {
      "cell_type": "code",
      "source": [
        "model.wv['king']"
      ],
      "metadata": {
        "colab": {
          "base_uri": "https://localhost:8080/"
        },
        "id": "O8FjhaqwFIpg",
        "outputId": "cdfb03cb-f7d4-4bc4-845e-e3fabccf2a2f"
      },
      "execution_count": null,
      "outputs": [
        {
          "output_type": "execute_result",
          "data": {
            "text/plain": [
              "array([ 0.5808701 , -0.7655679 ,  1.0288446 ,  0.31146944, -0.7655085 ,\n",
              "       -0.3621445 ,  1.1268855 , -0.22958697, -2.806459  ,  0.22271106,\n",
              "       -0.29823175, -0.54314387, -1.203602  ,  1.3323125 , -4.1133356 ,\n",
              "       -1.7460414 , -0.0197653 ,  3.0827801 ,  0.7262499 ,  0.07019565,\n",
              "        3.0429676 ,  0.39190048,  2.2279093 , -2.2462153 , -0.41766387,\n",
              "        0.37491372, -2.071491  , -1.7095017 ,  0.30522552,  0.69984144,\n",
              "       -2.2343829 ,  1.7298868 ,  1.0569545 , -0.7950264 ,  2.8449178 ,\n",
              "       -3.5388794 , -2.3082411 , -0.48285404,  1.6818146 , -1.911214  ,\n",
              "       -0.27293447,  2.8980951 ,  3.0176342 , -0.51196194, -1.1454364 ,\n",
              "       -0.65947247, -0.12048757, -2.2224708 ,  3.496445  , -2.0806584 ,\n",
              "       -2.4265528 , -0.7281178 , -1.9279076 , -3.8403292 ,  2.1072488 ,\n",
              "       -1.5508649 ,  0.216776  ,  1.3894228 , -0.6371716 ,  1.4060303 ,\n",
              "        2.1212606 ,  2.2223356 ,  0.10658418,  0.6465251 ,  0.880943  ,\n",
              "        2.2915964 , -0.8158272 , -0.76156926, -0.11575583, -2.1778588 ,\n",
              "       -0.13344829,  0.6330387 ,  4.7017193 , -1.5359247 ,  1.9162623 ,\n",
              "       -0.7438207 ,  1.0627483 , -1.359122  , -0.33747292, -0.825743  ,\n",
              "       -0.02316791,  3.16058   , -1.4459381 , -1.0532573 , -3.5687377 ,\n",
              "       -2.4995914 , -0.6195123 ,  3.3399222 ,  2.1509314 ,  0.47580788,\n",
              "        0.15927781,  1.6811113 , -1.7712729 , -1.7068009 ,  1.0165056 ,\n",
              "       -4.0231304 , -2.2340584 , -0.4190028 , -0.12921873,  0.31269857],\n",
              "      dtype=float32)"
            ]
          },
          "metadata": {},
          "execution_count": 72
        }
      ]
    },
    {
      "cell_type": "code",
      "source": [
        "model.wv['king'].shape     # it give 100 because by default 100 dimension is fixed\n",
        "# but we can increase it upto 300 dimension"
      ],
      "metadata": {
        "colab": {
          "base_uri": "https://localhost:8080/"
        },
        "id": "UrQjPE7_Ffsx",
        "outputId": "30ec715f-a93b-4b23-e186-cb169bf5ce75"
      },
      "execution_count": null,
      "outputs": [
        {
          "output_type": "execute_result",
          "data": {
            "text/plain": [
              "(100,)"
            ]
          },
          "metadata": {},
          "execution_count": 74
        }
      ]
    },
    {
      "cell_type": "code",
      "source": [
        "model.wv.similarity('arya','sansa')    # we will show similarity because both are sisters"
      ],
      "metadata": {
        "colab": {
          "base_uri": "https://localhost:8080/"
        },
        "id": "tbCm6jiiFlpB",
        "outputId": "4275e52e-3691-461e-c8d3-752fa67de48d"
      },
      "execution_count": null,
      "outputs": [
        {
          "output_type": "execute_result",
          "data": {
            "text/plain": [
              "0.84691375"
            ]
          },
          "metadata": {},
          "execution_count": 78
        }
      ]
    },
    {
      "cell_type": "code",
      "source": [
        "model.wv.similarity('cersei','sansa')    # we san show similarity because both are queen"
      ],
      "metadata": {
        "colab": {
          "base_uri": "https://localhost:8080/"
        },
        "id": "N6X06wT4GG7v",
        "outputId": "f854e392-f440-4421-ac7f-c721d849dc02"
      },
      "execution_count": null,
      "outputs": [
        {
          "output_type": "execute_result",
          "data": {
            "text/plain": [
              "0.7473714"
            ]
          },
          "metadata": {},
          "execution_count": 76
        }
      ]
    },
    {
      "cell_type": "code",
      "source": [
        "model.wv.similarity('tywin','sansa')    # ther are not any thing comon  so we will  show less similarity"
      ],
      "metadata": {
        "colab": {
          "base_uri": "https://localhost:8080/"
        },
        "id": "9w2rPfoZGNhF",
        "outputId": "8f816d47-e735-4bab-da40-15e6fb9cc6a1"
      },
      "execution_count": null,
      "outputs": [
        {
          "output_type": "execute_result",
          "data": {
            "text/plain": [
              "0.21354802"
            ]
          },
          "metadata": {},
          "execution_count": 79
        }
      ]
    },
    {
      "cell_type": "code",
      "source": [
        "model.wv.get_normed_vectors()"
      ],
      "metadata": {
        "colab": {
          "base_uri": "https://localhost:8080/"
        },
        "id": "wOEpnECCGTko",
        "outputId": "932657df-8224-404f-81f6-0f41c1c5ccb9"
      },
      "execution_count": null,
      "outputs": [
        {
          "output_type": "execute_result",
          "data": {
            "text/plain": [
              "array([[-0.15762144, -0.1376685 ,  0.1314235 , ..., -0.11488605,\n",
              "         0.12503566,  0.1469701 ],\n",
              "       [-0.16784465, -0.26383364,  0.09645479, ..., -0.07396547,\n",
              "         0.02037294,  0.0274542 ],\n",
              "       [ 0.17599852, -0.01510097, -0.06692181, ..., -0.0118314 ,\n",
              "         0.05458708, -0.15719655],\n",
              "       ...,\n",
              "       [ 0.06800698,  0.04194989,  0.00231253, ..., -0.09853891,\n",
              "         0.10226471, -0.03797186],\n",
              "       [-0.09032724,  0.03986258,  0.18204269, ..., -0.05815185,\n",
              "         0.17139345,  0.00758049],\n",
              "       [-0.08518798,  0.07746562,  0.11650531, ..., -0.1040768 ,\n",
              "         0.08901757, -0.04278707]], dtype=float32)"
            ]
          },
          "metadata": {},
          "execution_count": 80
        }
      ]
    },
    {
      "cell_type": "code",
      "source": [
        "model.wv.get_normed_vectors().shape"
      ],
      "metadata": {
        "colab": {
          "base_uri": "https://localhost:8080/"
        },
        "id": "HcI9YF6wGvkP",
        "outputId": "1c1a2e7a-6492-4af5-9513-e98582dc5128"
      },
      "execution_count": null,
      "outputs": [
        {
          "output_type": "execute_result",
          "data": {
            "text/plain": [
              "(17453, 100)"
            ]
          },
          "metadata": {},
          "execution_count": 81
        }
      ]
    },
    {
      "cell_type": "code",
      "source": [
        "# now we will try to print graph\n",
        "# at first we will decrease its dimentianality  by pca}"
      ],
      "metadata": {
        "id": "TPAShAj8HBy0"
      },
      "execution_count": null,
      "outputs": []
    },
    {
      "cell_type": "code",
      "source": [
        "y = model.wv.index_to_key"
      ],
      "metadata": {
        "id": "7bxMdaLFHpDO"
      },
      "execution_count": null,
      "outputs": []
    },
    {
      "cell_type": "code",
      "source": [
        "len(y)  # total 17453 words stored in y"
      ],
      "metadata": {
        "colab": {
          "base_uri": "https://localhost:8080/"
        },
        "id": "acY_wNy5Hw-S",
        "outputId": "c382a035-2048-4a78-ea6a-d613ad787501"
      },
      "execution_count": null,
      "outputs": [
        {
          "output_type": "execute_result",
          "data": {
            "text/plain": [
              "17453"
            ]
          },
          "metadata": {},
          "execution_count": 87
        }
      ]
    },
    {
      "cell_type": "code",
      "source": [
        "from sklearn.decomposition import PCA"
      ],
      "metadata": {
        "id": "kLVOl8_vHyRy"
      },
      "execution_count": null,
      "outputs": []
    },
    {
      "cell_type": "code",
      "source": [],
      "metadata": {
        "id": "ZLGnC7MZIudp"
      },
      "execution_count": null,
      "outputs": []
    },
    {
      "cell_type": "code",
      "source": [
        "pca = PCA(n_components = 3)"
      ],
      "metadata": {
        "id": "Yl_yZCLFILTv"
      },
      "execution_count": null,
      "outputs": []
    },
    {
      "cell_type": "code",
      "source": [
        "x = pca.fit_transform (model.wv.get_normed_vectors())"
      ],
      "metadata": {
        "id": "dJyrhMq6I342"
      },
      "execution_count": null,
      "outputs": []
    },
    {
      "cell_type": "code",
      "source": [
        "import  plotly.express as px\n",
        "# fig = px.scatter_3d(X[:100])"
      ],
      "metadata": {
        "id": "s0kUnaaGJCUi"
      },
      "execution_count": null,
      "outputs": []
    },
    {
      "cell_type": "code",
      "source": [
        "fig = px.scatter_3d(x[:100],x=0 , y=1 , z=2,color = y[:100])"
      ],
      "metadata": {
        "id": "ShK_3AoIJWmt"
      },
      "execution_count": null,
      "outputs": []
    },
    {
      "cell_type": "code",
      "source": [
        "fig.show()"
      ],
      "metadata": {
        "colab": {
          "base_uri": "https://localhost:8080/",
          "height": 542
        },
        "id": "Zkq8qNh1JjTa",
        "outputId": "1d4e2501-924c-463f-ab44-a3361a4f3906"
      },
      "execution_count": null,
      "outputs": [
        {
          "output_type": "display_data",
          "data": {
            "text/html": [
              "<html>\n",
              "<head><meta charset=\"utf-8\" /></head>\n",
              "<body>\n",
              "    <div>            <script src=\"https://cdnjs.cloudflare.com/ajax/libs/mathjax/2.7.5/MathJax.js?config=TeX-AMS-MML_SVG\"></script><script type=\"text/javascript\">if (window.MathJax && window.MathJax.Hub && window.MathJax.Hub.Config) {window.MathJax.Hub.Config({SVG: {font: \"STIX-Web\"}});}</script>                <script type=\"text/javascript\">window.PlotlyConfig = {MathJaxConfig: 'local'};</script>\n",
              "        <script charset=\"utf-8\" src=\"https://cdn.plot.ly/plotly-2.24.1.min.js\"></script>                <div id=\"ea23d70b-84aa-4493-b42e-b39e03350fe8\" class=\"plotly-graph-div\" style=\"height:525px; width:100%;\"></div>            <script type=\"text/javascript\">                                    window.PLOTLYENV=window.PLOTLYENV || {};                                    if (document.getElementById(\"ea23d70b-84aa-4493-b42e-b39e03350fe8\")) {                    Plotly.newPlot(                        \"ea23d70b-84aa-4493-b42e-b39e03350fe8\",                        [{\"hovertemplate\":\"color=the\\u003cbr\\u003e0=%{x}\\u003cbr\\u003e1=%{y}\\u003cbr\\u003e2=%{z}\\u003cextra\\u003e\\u003c\\u002fextra\\u003e\",\"legendgroup\":\"the\",\"marker\":{\"color\":\"#636efa\",\"symbol\":\"circle\"},\"mode\":\"markers\",\"name\":\"the\",\"scene\":\"scene\",\"showlegend\":true,\"x\":[-0.1357090026140213],\"y\":[0.5979381799697876],\"z\":[-0.08369505405426025],\"type\":\"scatter3d\"},{\"hovertemplate\":\"color=and\\u003cbr\\u003e0=%{x}\\u003cbr\\u003e1=%{y}\\u003cbr\\u003e2=%{z}\\u003cextra\\u003e\\u003c\\u002fextra\\u003e\",\"legendgroup\":\"and\",\"marker\":{\"color\":\"#EF553B\",\"symbol\":\"circle\"},\"mode\":\"markers\",\"name\":\"and\",\"scene\":\"scene\",\"showlegend\":true,\"x\":[-0.16671203076839447],\"y\":[0.36271190643310547],\"z\":[0.005067495163530111],\"type\":\"scatter3d\"},{\"hovertemplate\":\"color=to\\u003cbr\\u003e0=%{x}\\u003cbr\\u003e1=%{y}\\u003cbr\\u003e2=%{z}\\u003cextra\\u003e\\u003c\\u002fextra\\u003e\",\"legendgroup\":\"to\",\"marker\":{\"color\":\"#00cc96\",\"symbol\":\"circle\"},\"mode\":\"markers\",\"name\":\"to\",\"scene\":\"scene\",\"showlegend\":true,\"x\":[0.2899587154388428],\"y\":[0.5626245737075806],\"z\":[0.2086370289325714],\"type\":\"scatter3d\"},{\"hovertemplate\":\"color=of\\u003cbr\\u003e0=%{x}\\u003cbr\\u003e1=%{y}\\u003cbr\\u003e2=%{z}\\u003cextra\\u003e\\u003c\\u002fextra\\u003e\",\"legendgroup\":\"of\",\"marker\":{\"color\":\"#ab63fa\",\"symbol\":\"circle\"},\"mode\":\"markers\",\"name\":\"of\",\"scene\":\"scene\",\"showlegend\":true,\"x\":[0.008088573813438416],\"y\":[0.34577661752700806],\"z\":[-0.1150466576218605],\"type\":\"scatter3d\"},{\"hovertemplate\":\"color=he\\u003cbr\\u003e0=%{x}\\u003cbr\\u003e1=%{y}\\u003cbr\\u003e2=%{z}\\u003cextra\\u003e\\u003c\\u002fextra\\u003e\",\"legendgroup\":\"he\",\"marker\":{\"color\":\"#FFA15A\",\"symbol\":\"circle\"},\"mode\":\"markers\",\"name\":\"he\",\"scene\":\"scene\",\"showlegend\":true,\"x\":[0.09772692620754242],\"y\":[0.5614394545555115],\"z\":[0.2784360349178314],\"type\":\"scatter3d\"},{\"hovertemplate\":\"color=his\\u003cbr\\u003e0=%{x}\\u003cbr\\u003e1=%{y}\\u003cbr\\u003e2=%{z}\\u003cextra\\u003e\\u003c\\u002fextra\\u003e\",\"legendgroup\":\"his\",\"marker\":{\"color\":\"#19d3f3\",\"symbol\":\"circle\"},\"mode\":\"markers\",\"name\":\"his\",\"scene\":\"scene\",\"showlegend\":true,\"x\":[-0.043595969676971436],\"y\":[0.2910371720790863],\"z\":[0.3239111006259918],\"type\":\"scatter3d\"},{\"hovertemplate\":\"color=was\\u003cbr\\u003e0=%{x}\\u003cbr\\u003e1=%{y}\\u003cbr\\u003e2=%{z}\\u003cextra\\u003e\\u003c\\u002fextra\\u003e\",\"legendgroup\":\"was\",\"marker\":{\"color\":\"#FF6692\",\"symbol\":\"circle\"},\"mode\":\"markers\",\"name\":\"was\",\"scene\":\"scene\",\"showlegend\":true,\"x\":[0.1030101627111435],\"y\":[0.39948609471321106],\"z\":[0.29803431034088135],\"type\":\"scatter3d\"},{\"hovertemplate\":\"color=you\\u003cbr\\u003e0=%{x}\\u003cbr\\u003e1=%{y}\\u003cbr\\u003e2=%{z}\\u003cextra\\u003e\\u003c\\u002fextra\\u003e\",\"legendgroup\":\"you\",\"marker\":{\"color\":\"#B6E880\",\"symbol\":\"circle\"},\"mode\":\"markers\",\"name\":\"you\",\"scene\":\"scene\",\"showlegend\":true,\"x\":[0.5416455268859863],\"y\":[0.6139227747917175],\"z\":[0.19258444011211395],\"type\":\"scatter3d\"},{\"hovertemplate\":\"color=her\\u003cbr\\u003e0=%{x}\\u003cbr\\u003e1=%{y}\\u003cbr\\u003e2=%{z}\\u003cextra\\u003e\\u003c\\u002fextra\\u003e\",\"legendgroup\":\"her\",\"marker\":{\"color\":\"#FF97FF\",\"symbol\":\"circle\"},\"mode\":\"markers\",\"name\":\"her\",\"scene\":\"scene\",\"showlegend\":true,\"x\":[0.0006860852590762079],\"y\":[0.405592143535614],\"z\":[0.37284713983535767],\"type\":\"scatter3d\"},{\"hovertemplate\":\"color=in\\u003cbr\\u003e0=%{x}\\u003cbr\\u003e1=%{y}\\u003cbr\\u003e2=%{z}\\u003cextra\\u003e\\u003c\\u002fextra\\u003e\",\"legendgroup\":\"in\",\"marker\":{\"color\":\"#FECB52\",\"symbol\":\"circle\"},\"mode\":\"markers\",\"name\":\"in\",\"scene\":\"scene\",\"showlegend\":true,\"x\":[-0.074573814868927],\"y\":[0.43248751759529114],\"z\":[0.07666511833667755],\"type\":\"scatter3d\"},{\"hovertemplate\":\"color=it\\u003cbr\\u003e0=%{x}\\u003cbr\\u003e1=%{y}\\u003cbr\\u003e2=%{z}\\u003cextra\\u003e\\u003c\\u002fextra\\u003e\",\"legendgroup\":\"it\",\"marker\":{\"color\":\"#636efa\",\"symbol\":\"circle\"},\"mode\":\"markers\",\"name\":\"it\",\"scene\":\"scene\",\"showlegend\":true,\"x\":[0.09177292138338089],\"y\":[0.633233904838562],\"z\":[0.2549053728580475],\"type\":\"scatter3d\"},{\"hovertemplate\":\"color=had\\u003cbr\\u003e0=%{x}\\u003cbr\\u003e1=%{y}\\u003cbr\\u003e2=%{z}\\u003cextra\\u003e\\u003c\\u002fextra\\u003e\",\"legendgroup\":\"had\",\"marker\":{\"color\":\"#EF553B\",\"symbol\":\"circle\"},\"mode\":\"markers\",\"name\":\"had\",\"scene\":\"scene\",\"showlegend\":true,\"x\":[0.13982419669628143],\"y\":[0.5084752440452576],\"z\":[0.14737385511398315],\"type\":\"scatter3d\"},{\"hovertemplate\":\"color=that\\u003cbr\\u003e0=%{x}\\u003cbr\\u003e1=%{y}\\u003cbr\\u003e2=%{z}\\u003cextra\\u003e\\u003c\\u002fextra\\u003e\",\"legendgroup\":\"that\",\"marker\":{\"color\":\"#00cc96\",\"symbol\":\"circle\"},\"mode\":\"markers\",\"name\":\"that\",\"scene\":\"scene\",\"showlegend\":true,\"x\":[0.32542040944099426],\"y\":[0.6136138439178467],\"z\":[0.1094701811671257],\"type\":\"scatter3d\"},{\"hovertemplate\":\"color=she\\u003cbr\\u003e0=%{x}\\u003cbr\\u003e1=%{y}\\u003cbr\\u003e2=%{z}\\u003cextra\\u003e\\u003c\\u002fextra\\u003e\",\"legendgroup\":\"she\",\"marker\":{\"color\":\"#ab63fa\",\"symbol\":\"circle\"},\"mode\":\"markers\",\"name\":\"she\",\"scene\":\"scene\",\"showlegend\":true,\"x\":[0.07135765254497528],\"y\":[0.5272366404533386],\"z\":[0.30946287512779236],\"type\":\"scatter3d\"},{\"hovertemplate\":\"color=as\\u003cbr\\u003e0=%{x}\\u003cbr\\u003e1=%{y}\\u003cbr\\u003e2=%{z}\\u003cextra\\u003e\\u003c\\u002fextra\\u003e\",\"legendgroup\":\"as\",\"marker\":{\"color\":\"#FFA15A\",\"symbol\":\"circle\"},\"mode\":\"markers\",\"name\":\"as\",\"scene\":\"scene\",\"showlegend\":true,\"x\":[0.018143748864531517],\"y\":[0.48246800899505615],\"z\":[0.24695837497711182],\"type\":\"scatter3d\"},{\"hovertemplate\":\"color=with\\u003cbr\\u003e0=%{x}\\u003cbr\\u003e1=%{y}\\u003cbr\\u003e2=%{z}\\u003cextra\\u003e\\u003c\\u002fextra\\u003e\",\"legendgroup\":\"with\",\"marker\":{\"color\":\"#19d3f3\",\"symbol\":\"circle\"},\"mode\":\"markers\",\"name\":\"with\",\"scene\":\"scene\",\"showlegend\":true,\"x\":[-0.10979042202234268],\"y\":[0.25045520067214966],\"z\":[0.19027750194072723],\"type\":\"scatter3d\"},{\"hovertemplate\":\"color=him\\u003cbr\\u003e0=%{x}\\u003cbr\\u003e1=%{y}\\u003cbr\\u003e2=%{z}\\u003cextra\\u003e\\u003c\\u002fextra\\u003e\",\"legendgroup\":\"him\",\"marker\":{\"color\":\"#FF6692\",\"symbol\":\"circle\"},\"mode\":\"markers\",\"name\":\"him\",\"scene\":\"scene\",\"showlegend\":true,\"x\":[0.10773169994354248],\"y\":[0.5486212372779846],\"z\":[0.31579601764678955],\"type\":\"scatter3d\"},{\"hovertemplate\":\"color=not\\u003cbr\\u003e0=%{x}\\u003cbr\\u003e1=%{y}\\u003cbr\\u003e2=%{z}\\u003cextra\\u003e\\u003c\\u002fextra\\u003e\",\"legendgroup\":\"not\",\"marker\":{\"color\":\"#B6E880\",\"symbol\":\"circle\"},\"mode\":\"markers\",\"name\":\"not\",\"scene\":\"scene\",\"showlegend\":true,\"x\":[0.47351694107055664],\"y\":[0.5540015697479248],\"z\":[0.2220975011587143],\"type\":\"scatter3d\"},{\"hovertemplate\":\"color=but\\u003cbr\\u003e0=%{x}\\u003cbr\\u003e1=%{y}\\u003cbr\\u003e2=%{z}\\u003cextra\\u003e\\u003c\\u002fextra\\u003e\",\"legendgroup\":\"but\",\"marker\":{\"color\":\"#FF97FF\",\"symbol\":\"circle\"},\"mode\":\"markers\",\"name\":\"but\",\"scene\":\"scene\",\"showlegend\":true,\"x\":[0.24597133696079254],\"y\":[0.5983941555023193],\"z\":[0.19102244079113007],\"type\":\"scatter3d\"},{\"hovertemplate\":\"color=for\\u003cbr\\u003e0=%{x}\\u003cbr\\u003e1=%{y}\\u003cbr\\u003e2=%{z}\\u003cextra\\u003e\\u003c\\u002fextra\\u003e\",\"legendgroup\":\"for\",\"marker\":{\"color\":\"#FECB52\",\"symbol\":\"circle\"},\"mode\":\"markers\",\"name\":\"for\",\"scene\":\"scene\",\"showlegend\":true,\"x\":[0.42461347579956055],\"y\":[0.5054295659065247],\"z\":[0.1831292062997818],\"type\":\"scatter3d\"},{\"hovertemplate\":\"color=they\\u003cbr\\u003e0=%{x}\\u003cbr\\u003e1=%{y}\\u003cbr\\u003e2=%{z}\\u003cextra\\u003e\\u003c\\u002fextra\\u003e\",\"legendgroup\":\"they\",\"marker\":{\"color\":\"#636efa\",\"symbol\":\"circle\"},\"mode\":\"markers\",\"name\":\"they\",\"scene\":\"scene\",\"showlegend\":true,\"x\":[0.027889104560017586],\"y\":[0.6893640756607056],\"z\":[-0.06490817666053772],\"type\":\"scatter3d\"},{\"hovertemplate\":\"color=is\\u003cbr\\u003e0=%{x}\\u003cbr\\u003e1=%{y}\\u003cbr\\u003e2=%{z}\\u003cextra\\u003e\\u003c\\u002fextra\\u003e\",\"legendgroup\":\"is\",\"marker\":{\"color\":\"#EF553B\",\"symbol\":\"circle\"},\"mode\":\"markers\",\"name\":\"is\",\"scene\":\"scene\",\"showlegend\":true,\"x\":[0.579646646976471],\"y\":[0.47761890292167664],\"z\":[0.17150640487670898],\"type\":\"scatter3d\"},{\"hovertemplate\":\"color=at\\u003cbr\\u003e0=%{x}\\u003cbr\\u003e1=%{y}\\u003cbr\\u003e2=%{z}\\u003cextra\\u003e\\u003c\\u002fextra\\u003e\",\"legendgroup\":\"at\",\"marker\":{\"color\":\"#00cc96\",\"symbol\":\"circle\"},\"mode\":\"markers\",\"name\":\"at\",\"scene\":\"scene\",\"showlegend\":true,\"x\":[0.046457599848508835],\"y\":[0.388274610042572],\"z\":[0.329736590385437],\"type\":\"scatter3d\"},{\"hovertemplate\":\"color=on\\u003cbr\\u003e0=%{x}\\u003cbr\\u003e1=%{y}\\u003cbr\\u003e2=%{z}\\u003cextra\\u003e\\u003c\\u002fextra\\u003e\",\"legendgroup\":\"on\",\"marker\":{\"color\":\"#ab63fa\",\"symbol\":\"circle\"},\"mode\":\"markers\",\"name\":\"on\",\"scene\":\"scene\",\"showlegend\":true,\"x\":[-0.18707424402236938],\"y\":[0.4472542703151703],\"z\":[0.21514634788036346],\"type\":\"scatter3d\"},{\"hovertemplate\":\"color=said\\u003cbr\\u003e0=%{x}\\u003cbr\\u003e1=%{y}\\u003cbr\\u003e2=%{z}\\u003cextra\\u003e\\u003c\\u002fextra\\u003e\",\"legendgroup\":\"said\",\"marker\":{\"color\":\"#FFA15A\",\"symbol\":\"circle\"},\"mode\":\"markers\",\"name\":\"said\",\"scene\":\"scene\",\"showlegend\":true,\"x\":[0.5406500101089478],\"y\":[0.48124316334724426],\"z\":[0.4795476496219635],\"type\":\"scatter3d\"},{\"hovertemplate\":\"color=my\\u003cbr\\u003e0=%{x}\\u003cbr\\u003e1=%{y}\\u003cbr\\u003e2=%{z}\\u003cextra\\u003e\\u003c\\u002fextra\\u003e\",\"legendgroup\":\"my\",\"marker\":{\"color\":\"#19d3f3\",\"symbol\":\"circle\"},\"mode\":\"markers\",\"name\":\"my\",\"scene\":\"scene\",\"showlegend\":true,\"x\":[0.47370266914367676],\"y\":[0.5088303685188293],\"z\":[0.1980581134557724],\"type\":\"scatter3d\"},{\"hovertemplate\":\"color=have\\u003cbr\\u003e0=%{x}\\u003cbr\\u003e1=%{y}\\u003cbr\\u003e2=%{z}\\u003cextra\\u003e\\u003c\\u002fextra\\u003e\",\"legendgroup\":\"have\",\"marker\":{\"color\":\"#FF6692\",\"symbol\":\"circle\"},\"mode\":\"markers\",\"name\":\"have\",\"scene\":\"scene\",\"showlegend\":true,\"x\":[0.3934401571750641],\"y\":[0.6242731809616089],\"z\":[0.1323142945766449],\"type\":\"scatter3d\"},{\"hovertemplate\":\"color=be\\u003cbr\\u003e0=%{x}\\u003cbr\\u003e1=%{y}\\u003cbr\\u003e2=%{z}\\u003cextra\\u003e\\u003c\\u002fextra\\u003e\",\"legendgroup\":\"be\",\"marker\":{\"color\":\"#B6E880\",\"symbol\":\"circle\"},\"mode\":\"markers\",\"name\":\"be\",\"scene\":\"scene\",\"showlegend\":true,\"x\":[0.3991318345069885],\"y\":[0.6535711288452148],\"z\":[0.13344629108905792],\"type\":\"scatter3d\"},{\"hovertemplate\":\"color=lord\\u003cbr\\u003e0=%{x}\\u003cbr\\u003e1=%{y}\\u003cbr\\u003e2=%{z}\\u003cextra\\u003e\\u003c\\u002fextra\\u003e\",\"legendgroup\":\"lord\",\"marker\":{\"color\":\"#FF97FF\",\"symbol\":\"circle\"},\"mode\":\"markers\",\"name\":\"lord\",\"scene\":\"scene\",\"showlegend\":true,\"x\":[0.4930177330970764],\"y\":[0.4300016760826111],\"z\":[0.08113890886306763],\"type\":\"scatter3d\"},{\"hovertemplate\":\"color=them\\u003cbr\\u003e0=%{x}\\u003cbr\\u003e1=%{y}\\u003cbr\\u003e2=%{z}\\u003cextra\\u003e\\u003c\\u002fextra\\u003e\",\"legendgroup\":\"them\",\"marker\":{\"color\":\"#FECB52\",\"symbol\":\"circle\"},\"mode\":\"markers\",\"name\":\"them\",\"scene\":\"scene\",\"showlegend\":true,\"x\":[0.011100981384515762],\"y\":[0.7011092305183411],\"z\":[-0.013938549906015396],\"type\":\"scatter3d\"},{\"hovertemplate\":\"color=no\\u003cbr\\u003e0=%{x}\\u003cbr\\u003e1=%{y}\\u003cbr\\u003e2=%{z}\\u003cextra\\u003e\\u003c\\u002fextra\\u003e\",\"legendgroup\":\"no\",\"marker\":{\"color\":\"#636efa\",\"symbol\":\"circle\"},\"mode\":\"markers\",\"name\":\"no\",\"scene\":\"scene\",\"showlegend\":true,\"x\":[0.38317424058914185],\"y\":[0.5420752763748169],\"z\":[0.08564422279596329],\"type\":\"scatter3d\"},{\"hovertemplate\":\"color=from\\u003cbr\\u003e0=%{x}\\u003cbr\\u003e1=%{y}\\u003cbr\\u003e2=%{z}\\u003cextra\\u003e\\u003c\\u002fextra\\u003e\",\"legendgroup\":\"from\",\"marker\":{\"color\":\"#EF553B\",\"symbol\":\"circle\"},\"mode\":\"markers\",\"name\":\"from\",\"scene\":\"scene\",\"showlegend\":true,\"x\":[-0.1748231053352356],\"y\":[0.44068601727485657],\"z\":[0.1596628874540329],\"type\":\"scatter3d\"},{\"hovertemplate\":\"color=would\\u003cbr\\u003e0=%{x}\\u003cbr\\u003e1=%{y}\\u003cbr\\u003e2=%{z}\\u003cextra\\u003e\\u003c\\u002fextra\\u003e\",\"legendgroup\":\"would\",\"marker\":{\"color\":\"#00cc96\",\"symbol\":\"circle\"},\"mode\":\"markers\",\"name\":\"would\",\"scene\":\"scene\",\"showlegend\":true,\"x\":[0.38819631934165955],\"y\":[0.5438104867935181],\"z\":[0.23372547328472137],\"type\":\"scatter3d\"},{\"hovertemplate\":\"color=were\\u003cbr\\u003e0=%{x}\\u003cbr\\u003e1=%{y}\\u003cbr\\u003e2=%{z}\\u003cextra\\u003e\\u003c\\u002fextra\\u003e\",\"legendgroup\":\"were\",\"marker\":{\"color\":\"#ab63fa\",\"symbol\":\"circle\"},\"mode\":\"markers\",\"name\":\"were\",\"scene\":\"scene\",\"showlegend\":true,\"x\":[-0.03494307026267052],\"y\":[0.502755343914032],\"z\":[0.033000681549310684],\"type\":\"scatter3d\"},{\"hovertemplate\":\"color=me\\u003cbr\\u003e0=%{x}\\u003cbr\\u003e1=%{y}\\u003cbr\\u003e2=%{z}\\u003cextra\\u003e\\u003c\\u002fextra\\u003e\",\"legendgroup\":\"me\",\"marker\":{\"color\":\"#FFA15A\",\"symbol\":\"circle\"},\"mode\":\"markers\",\"name\":\"me\",\"scene\":\"scene\",\"showlegend\":true,\"x\":[0.49440672993659973],\"y\":[0.6028454899787903],\"z\":[0.22475621104240417],\"type\":\"scatter3d\"},{\"hovertemplate\":\"color=your\\u003cbr\\u003e0=%{x}\\u003cbr\\u003e1=%{y}\\u003cbr\\u003e2=%{z}\\u003cextra\\u003e\\u003c\\u002fextra\\u003e\",\"legendgroup\":\"your\",\"marker\":{\"color\":\"#19d3f3\",\"symbol\":\"circle\"},\"mode\":\"markers\",\"name\":\"your\",\"scene\":\"scene\",\"showlegend\":true,\"x\":[0.44386494159698486],\"y\":[0.4858701825141907],\"z\":[0.19281339645385742],\"type\":\"scatter3d\"},{\"hovertemplate\":\"color=one\\u003cbr\\u003e0=%{x}\\u003cbr\\u003e1=%{y}\\u003cbr\\u003e2=%{z}\\u003cextra\\u003e\\u003c\\u002fextra\\u003e\",\"legendgroup\":\"one\",\"marker\":{\"color\":\"#FF6692\",\"symbol\":\"circle\"},\"mode\":\"markers\",\"name\":\"one\",\"scene\":\"scene\",\"showlegend\":true,\"x\":[0.03150476887822151],\"y\":[0.6111499071121216],\"z\":[0.13257969915866852],\"type\":\"scatter3d\"},{\"hovertemplate\":\"color=all\\u003cbr\\u003e0=%{x}\\u003cbr\\u003e1=%{y}\\u003cbr\\u003e2=%{z}\\u003cextra\\u003e\\u003c\\u002fextra\\u003e\",\"legendgroup\":\"all\",\"marker\":{\"color\":\"#B6E880\",\"symbol\":\"circle\"},\"mode\":\"markers\",\"name\":\"all\",\"scene\":\"scene\",\"showlegend\":true,\"x\":[0.2060648798942566],\"y\":[0.6974557042121887],\"z\":[-0.050325069576501846],\"type\":\"scatter3d\"},{\"hovertemplate\":\"color=when\\u003cbr\\u003e0=%{x}\\u003cbr\\u003e1=%{y}\\u003cbr\\u003e2=%{z}\\u003cextra\\u003e\\u003c\\u002fextra\\u003e\",\"legendgroup\":\"when\",\"marker\":{\"color\":\"#FF97FF\",\"symbol\":\"circle\"},\"mode\":\"markers\",\"name\":\"when\",\"scene\":\"scene\",\"showlegend\":true,\"x\":[0.12832249701023102],\"y\":[0.5796487927436829],\"z\":[0.2974510192871094],\"type\":\"scatter3d\"},{\"hovertemplate\":\"color=will\\u003cbr\\u003e0=%{x}\\u003cbr\\u003e1=%{y}\\u003cbr\\u003e2=%{z}\\u003cextra\\u003e\\u003c\\u002fextra\\u003e\",\"legendgroup\":\"will\",\"marker\":{\"color\":\"#FECB52\",\"symbol\":\"circle\"},\"mode\":\"markers\",\"name\":\"will\",\"scene\":\"scene\",\"showlegend\":true,\"x\":[0.4970764219760895],\"y\":[0.5371617674827576],\"z\":[0.17954495549201965],\"type\":\"scatter3d\"},{\"hovertemplate\":\"color=ser\\u003cbr\\u003e0=%{x}\\u003cbr\\u003e1=%{y}\\u003cbr\\u003e2=%{z}\\u003cextra\\u003e\\u003c\\u002fextra\\u003e\",\"legendgroup\":\"ser\",\"marker\":{\"color\":\"#636efa\",\"symbol\":\"circle\"},\"mode\":\"markers\",\"name\":\"ser\",\"scene\":\"scene\",\"showlegend\":true,\"x\":[0.3935060203075409],\"y\":[0.2760787010192871],\"z\":[0.1287083625793457],\"type\":\"scatter3d\"},{\"hovertemplate\":\"color=if\\u003cbr\\u003e0=%{x}\\u003cbr\\u003e1=%{y}\\u003cbr\\u003e2=%{z}\\u003cextra\\u003e\\u003c\\u002fextra\\u003e\",\"legendgroup\":\"if\",\"marker\":{\"color\":\"#EF553B\",\"symbol\":\"circle\"},\"mode\":\"markers\",\"name\":\"if\",\"scene\":\"scene\",\"showlegend\":true,\"x\":[0.4012257754802704],\"y\":[0.6334128379821777],\"z\":[0.29129496216773987],\"type\":\"scatter3d\"},{\"hovertemplate\":\"color=so\\u003cbr\\u003e0=%{x}\\u003cbr\\u003e1=%{y}\\u003cbr\\u003e2=%{z}\\u003cextra\\u003e\\u003c\\u002fextra\\u003e\",\"legendgroup\":\"so\",\"marker\":{\"color\":\"#00cc96\",\"symbol\":\"circle\"},\"mode\":\"markers\",\"name\":\"so\",\"scene\":\"scene\",\"showlegend\":true,\"x\":[0.17031480371952057],\"y\":[0.5592008829116821],\"z\":[0.28776514530181885],\"type\":\"scatter3d\"},{\"hovertemplate\":\"color=their\\u003cbr\\u003e0=%{x}\\u003cbr\\u003e1=%{y}\\u003cbr\\u003e2=%{z}\\u003cextra\\u003e\\u003c\\u002fextra\\u003e\",\"legendgroup\":\"their\",\"marker\":{\"color\":\"#ab63fa\",\"symbol\":\"circle\"},\"mode\":\"markers\",\"name\":\"their\",\"scene\":\"scene\",\"showlegend\":true,\"x\":[-0.05655607208609581],\"y\":[0.5251280069351196],\"z\":[-0.20265398919582367],\"type\":\"scatter3d\"},{\"hovertemplate\":\"color=we\\u003cbr\\u003e0=%{x}\\u003cbr\\u003e1=%{y}\\u003cbr\\u003e2=%{z}\\u003cextra\\u003e\\u003c\\u002fextra\\u003e\",\"legendgroup\":\"we\",\"marker\":{\"color\":\"#FFA15A\",\"symbol\":\"circle\"},\"mode\":\"markers\",\"name\":\"we\",\"scene\":\"scene\",\"showlegend\":true,\"x\":[0.359327107667923],\"y\":[0.7303943037986755],\"z\":[-0.024622295051813126],\"type\":\"scatter3d\"},{\"hovertemplate\":\"color=could\\u003cbr\\u003e0=%{x}\\u003cbr\\u003e1=%{y}\\u003cbr\\u003e2=%{z}\\u003cextra\\u003e\\u003c\\u002fextra\\u003e\",\"legendgroup\":\"could\",\"marker\":{\"color\":\"#19d3f3\",\"symbol\":\"circle\"},\"mode\":\"markers\",\"name\":\"could\",\"scene\":\"scene\",\"showlegend\":true,\"x\":[0.10832453519105911],\"y\":[0.4871687889099121],\"z\":[0.2852053940296173],\"type\":\"scatter3d\"},{\"hovertemplate\":\"color=are\\u003cbr\\u003e0=%{x}\\u003cbr\\u003e1=%{y}\\u003cbr\\u003e2=%{z}\\u003cextra\\u003e\\u003c\\u002fextra\\u003e\",\"legendgroup\":\"are\",\"marker\":{\"color\":\"#FF6692\",\"symbol\":\"circle\"},\"mode\":\"markers\",\"name\":\"are\",\"scene\":\"scene\",\"showlegend\":true,\"x\":[0.4143027663230896],\"y\":[0.5280066728591919],\"z\":[-0.00039427069714292884],\"type\":\"scatter3d\"},{\"hovertemplate\":\"color=man\\u003cbr\\u003e0=%{x}\\u003cbr\\u003e1=%{y}\\u003cbr\\u003e2=%{z}\\u003cextra\\u003e\\u003c\\u002fextra\\u003e\",\"legendgroup\":\"man\",\"marker\":{\"color\":\"#B6E880\",\"symbol\":\"circle\"},\"mode\":\"markers\",\"name\":\"man\",\"scene\":\"scene\",\"showlegend\":true,\"x\":[0.13131074607372284],\"y\":[0.5056776404380798],\"z\":[0.18358902633190155],\"type\":\"scatter3d\"},{\"hovertemplate\":\"color=there\\u003cbr\\u003e0=%{x}\\u003cbr\\u003e1=%{y}\\u003cbr\\u003e2=%{z}\\u003cextra\\u003e\\u003c\\u002fextra\\u003e\",\"legendgroup\":\"there\",\"marker\":{\"color\":\"#FF97FF\",\"symbol\":\"circle\"},\"mode\":\"markers\",\"name\":\"there\",\"scene\":\"scene\",\"showlegend\":true,\"x\":[0.08308286964893341],\"y\":[0.629472017288208],\"z\":[0.01481107622385025],\"type\":\"scatter3d\"},{\"hovertemplate\":\"color=this\\u003cbr\\u003e0=%{x}\\u003cbr\\u003e1=%{y}\\u003cbr\\u003e2=%{z}\\u003cextra\\u003e\\u003c\\u002fextra\\u003e\",\"legendgroup\":\"this\",\"marker\":{\"color\":\"#FECB52\",\"symbol\":\"circle\"},\"mode\":\"markers\",\"name\":\"this\",\"scene\":\"scene\",\"showlegend\":true,\"x\":[0.4309769570827484],\"y\":[0.6097279191017151],\"z\":[0.10788166522979736],\"type\":\"scatter3d\"},{\"hovertemplate\":\"color=up\\u003cbr\\u003e0=%{x}\\u003cbr\\u003e1=%{y}\\u003cbr\\u003e2=%{z}\\u003cextra\\u003e\\u003c\\u002fextra\\u003e\",\"legendgroup\":\"up\",\"marker\":{\"color\":\"#636efa\",\"symbol\":\"circle\"},\"mode\":\"markers\",\"name\":\"up\",\"scene\":\"scene\",\"showlegend\":true,\"x\":[-0.4013809561729431],\"y\":[0.5713407397270203],\"z\":[0.30534499883651733],\"type\":\"scatter3d\"},{\"hovertemplate\":\"color=been\\u003cbr\\u003e0=%{x}\\u003cbr\\u003e1=%{y}\\u003cbr\\u003e2=%{z}\\u003cextra\\u003e\\u003c\\u002fextra\\u003e\",\"legendgroup\":\"been\",\"marker\":{\"color\":\"#EF553B\",\"symbol\":\"circle\"},\"mode\":\"markers\",\"name\":\"been\",\"scene\":\"scene\",\"showlegend\":true,\"x\":[0.16780462861061096],\"y\":[0.5310707092285156],\"z\":[0.13918475806713104],\"type\":\"scatter3d\"},{\"hovertemplate\":\"color=what\\u003cbr\\u003e0=%{x}\\u003cbr\\u003e1=%{y}\\u003cbr\\u003e2=%{z}\\u003cextra\\u003e\\u003c\\u002fextra\\u003e\",\"legendgroup\":\"what\",\"marker\":{\"color\":\"#00cc96\",\"symbol\":\"circle\"},\"mode\":\"markers\",\"name\":\"what\",\"scene\":\"scene\",\"showlegend\":true,\"x\":[0.4095151126384735],\"y\":[0.5992565155029297],\"z\":[0.10708923637866974],\"type\":\"scatter3d\"},{\"hovertemplate\":\"color=did\\u003cbr\\u003e0=%{x}\\u003cbr\\u003e1=%{y}\\u003cbr\\u003e2=%{z}\\u003cextra\\u003e\\u003c\\u002fextra\\u003e\",\"legendgroup\":\"did\",\"marker\":{\"color\":\"#ab63fa\",\"symbol\":\"circle\"},\"mode\":\"markers\",\"name\":\"did\",\"scene\":\"scene\",\"showlegend\":true,\"x\":[0.3787691295146942],\"y\":[0.44923481345176697],\"z\":[0.388220876455307],\"type\":\"scatter3d\"},{\"hovertemplate\":\"color=by\\u003cbr\\u003e0=%{x}\\u003cbr\\u003e1=%{y}\\u003cbr\\u003e2=%{z}\\u003cextra\\u003e\\u003c\\u002fextra\\u003e\",\"legendgroup\":\"by\",\"marker\":{\"color\":\"#FFA15A\",\"symbol\":\"circle\"},\"mode\":\"markers\",\"name\":\"by\",\"scene\":\"scene\",\"showlegend\":true,\"x\":[0.03407524526119232],\"y\":[0.45828017592430115],\"z\":[0.009731872007250786],\"type\":\"scatter3d\"},{\"hovertemplate\":\"color=king\\u003cbr\\u003e0=%{x}\\u003cbr\\u003e1=%{y}\\u003cbr\\u003e2=%{z}\\u003cextra\\u003e\\u003c\\u002fextra\\u003e\",\"legendgroup\":\"king\",\"marker\":{\"color\":\"#19d3f3\",\"symbol\":\"circle\"},\"mode\":\"markers\",\"name\":\"king\",\"scene\":\"scene\",\"showlegend\":true,\"x\":[0.38693323731422424],\"y\":[0.6662293672561646],\"z\":[0.05255315080285072],\"type\":\"scatter3d\"},{\"hovertemplate\":\"color=do\\u003cbr\\u003e0=%{x}\\u003cbr\\u003e1=%{y}\\u003cbr\\u003e2=%{z}\\u003cextra\\u003e\\u003c\\u002fextra\\u003e\",\"legendgroup\":\"do\",\"marker\":{\"color\":\"#FF6692\",\"symbol\":\"circle\"},\"mode\":\"markers\",\"name\":\"do\",\"scene\":\"scene\",\"showlegend\":true,\"x\":[0.5420013666152954],\"y\":[0.5356511473655701],\"z\":[0.3074099123477936],\"type\":\"scatter3d\"},{\"hovertemplate\":\"color=men\\u003cbr\\u003e0=%{x}\\u003cbr\\u003e1=%{y}\\u003cbr\\u003e2=%{z}\\u003cextra\\u003e\\u003c\\u002fextra\\u003e\",\"legendgroup\":\"men\",\"marker\":{\"color\":\"#B6E880\",\"symbol\":\"circle\"},\"mode\":\"markers\",\"name\":\"men\",\"scene\":\"scene\",\"showlegend\":true,\"x\":[0.09613952785730362],\"y\":[0.7430016994476318],\"z\":[-0.24472267925739288],\"type\":\"scatter3d\"},{\"hovertemplate\":\"color=back\\u003cbr\\u003e0=%{x}\\u003cbr\\u003e1=%{y}\\u003cbr\\u003e2=%{z}\\u003cextra\\u003e\\u003c\\u002fextra\\u003e\",\"legendgroup\":\"back\",\"marker\":{\"color\":\"#FF97FF\",\"symbol\":\"circle\"},\"mode\":\"markers\",\"name\":\"back\",\"scene\":\"scene\",\"showlegend\":true,\"x\":[-0.1756657361984253],\"y\":[0.616374135017395],\"z\":[0.4555298089981079],\"type\":\"scatter3d\"},{\"hovertemplate\":\"color=out\\u003cbr\\u003e0=%{x}\\u003cbr\\u003e1=%{y}\\u003cbr\\u003e2=%{z}\\u003cextra\\u003e\\u003c\\u002fextra\\u003e\",\"legendgroup\":\"out\",\"marker\":{\"color\":\"#FECB52\",\"symbol\":\"circle\"},\"mode\":\"markers\",\"name\":\"out\",\"scene\":\"scene\",\"showlegend\":true,\"x\":[-0.25282570719718933],\"y\":[0.5636143088340759],\"z\":[0.31311097741127014],\"type\":\"scatter3d\"},{\"hovertemplate\":\"color=more\\u003cbr\\u003e0=%{x}\\u003cbr\\u003e1=%{y}\\u003cbr\\u003e2=%{z}\\u003cextra\\u003e\\u003c\\u002fextra\\u003e\",\"legendgroup\":\"more\",\"marker\":{\"color\":\"#636efa\",\"symbol\":\"circle\"},\"mode\":\"markers\",\"name\":\"more\",\"scene\":\"scene\",\"showlegend\":true,\"x\":[0.243043452501297],\"y\":[0.5713141560554504],\"z\":[0.04515333101153374],\"type\":\"scatter3d\"},{\"hovertemplate\":\"color=or\\u003cbr\\u003e0=%{x}\\u003cbr\\u003e1=%{y}\\u003cbr\\u003e2=%{z}\\u003cextra\\u003e\\u003c\\u002fextra\\u003e\",\"legendgroup\":\"or\",\"marker\":{\"color\":\"#EF553B\",\"symbol\":\"circle\"},\"mode\":\"markers\",\"name\":\"or\",\"scene\":\"scene\",\"showlegend\":true,\"x\":[0.3481287956237793],\"y\":[0.5809623003005981],\"z\":[0.07910462468862534],\"type\":\"scatter3d\"},{\"hovertemplate\":\"color=who\\u003cbr\\u003e0=%{x}\\u003cbr\\u003e1=%{y}\\u003cbr\\u003e2=%{z}\\u003cextra\\u003e\\u003c\\u002fextra\\u003e\",\"legendgroup\":\"who\",\"marker\":{\"color\":\"#00cc96\",\"symbol\":\"circle\"},\"mode\":\"markers\",\"name\":\"who\",\"scene\":\"scene\",\"showlegend\":true,\"x\":[0.4242987632751465],\"y\":[0.6094658970832825],\"z\":[-0.08047280460596085],\"type\":\"scatter3d\"},{\"hovertemplate\":\"color=down\\u003cbr\\u003e0=%{x}\\u003cbr\\u003e1=%{y}\\u003cbr\\u003e2=%{z}\\u003cextra\\u003e\\u003c\\u002fextra\\u003e\",\"legendgroup\":\"down\",\"marker\":{\"color\":\"#ab63fa\",\"symbol\":\"circle\"},\"mode\":\"markers\",\"name\":\"down\",\"scene\":\"scene\",\"showlegend\":true,\"x\":[-0.4378986954689026],\"y\":[0.5841169953346252],\"z\":[0.3665417432785034],\"type\":\"scatter3d\"},{\"hovertemplate\":\"color=well\\u003cbr\\u003e0=%{x}\\u003cbr\\u003e1=%{y}\\u003cbr\\u003e2=%{z}\\u003cextra\\u003e\\u003c\\u002fextra\\u003e\",\"legendgroup\":\"well\",\"marker\":{\"color\":\"#FFA15A\",\"symbol\":\"circle\"},\"mode\":\"markers\",\"name\":\"well\",\"scene\":\"scene\",\"showlegend\":true,\"x\":[0.35943445563316345],\"y\":[0.5723282694816589],\"z\":[0.07735300064086914],\"type\":\"scatter3d\"},{\"hovertemplate\":\"color=than\\u003cbr\\u003e0=%{x}\\u003cbr\\u003e1=%{y}\\u003cbr\\u003e2=%{z}\\u003cextra\\u003e\\u003c\\u002fextra\\u003e\",\"legendgroup\":\"than\",\"marker\":{\"color\":\"#19d3f3\",\"symbol\":\"circle\"},\"mode\":\"markers\",\"name\":\"than\",\"scene\":\"scene\",\"showlegend\":true,\"x\":[0.18273921310901642],\"y\":[0.4398462176322937],\"z\":[0.1689085215330124],\"type\":\"scatter3d\"},{\"hovertemplate\":\"color=only\\u003cbr\\u003e0=%{x}\\u003cbr\\u003e1=%{y}\\u003cbr\\u003e2=%{z}\\u003cextra\\u003e\\u003c\\u002fextra\\u003e\",\"legendgroup\":\"only\",\"marker\":{\"color\":\"#FF6692\",\"symbol\":\"circle\"},\"mode\":\"markers\",\"name\":\"only\",\"scene\":\"scene\",\"showlegend\":true,\"x\":[0.3053200840950012],\"y\":[0.6084355115890503],\"z\":[0.06124509871006012],\"type\":\"scatter3d\"},{\"hovertemplate\":\"color=like\\u003cbr\\u003e0=%{x}\\u003cbr\\u003e1=%{y}\\u003cbr\\u003e2=%{z}\\u003cextra\\u003e\\u003c\\u002fextra\\u003e\",\"legendgroup\":\"like\",\"marker\":{\"color\":\"#B6E880\",\"symbol\":\"circle\"},\"mode\":\"markers\",\"name\":\"like\",\"scene\":\"scene\",\"showlegend\":true,\"x\":[-0.08346201479434967],\"y\":[0.35954758524894714],\"z\":[0.25790148973464966],\"type\":\"scatter3d\"},{\"hovertemplate\":\"color=jon\\u003cbr\\u003e0=%{x}\\u003cbr\\u003e1=%{y}\\u003cbr\\u003e2=%{z}\\u003cextra\\u003e\\u003c\\u002fextra\\u003e\",\"legendgroup\":\"jon\",\"marker\":{\"color\":\"#FF97FF\",\"symbol\":\"circle\"},\"mode\":\"markers\",\"name\":\"jon\",\"scene\":\"scene\",\"showlegend\":true,\"x\":[0.05867826193571091],\"y\":[0.412914901971817],\"z\":[0.2485322803258896],\"type\":\"scatter3d\"},{\"hovertemplate\":\"color=some\\u003cbr\\u003e0=%{x}\\u003cbr\\u003e1=%{y}\\u003cbr\\u003e2=%{z}\\u003cextra\\u003e\\u003c\\u002fextra\\u003e\",\"legendgroup\":\"some\",\"marker\":{\"color\":\"#FECB52\",\"symbol\":\"circle\"},\"mode\":\"markers\",\"name\":\"some\",\"scene\":\"scene\",\"showlegend\":true,\"x\":[0.10894127190113068],\"y\":[0.5421709418296814],\"z\":[-0.11668868362903595],\"type\":\"scatter3d\"},{\"hovertemplate\":\"color=father\\u003cbr\\u003e0=%{x}\\u003cbr\\u003e1=%{y}\\u003cbr\\u003e2=%{z}\\u003cextra\\u003e\\u003c\\u002fextra\\u003e\",\"legendgroup\":\"father\",\"marker\":{\"color\":\"#636efa\",\"symbol\":\"circle\"},\"mode\":\"markers\",\"name\":\"father\",\"scene\":\"scene\",\"showlegend\":true,\"x\":[0.49265989661216736],\"y\":[0.6509883999824524],\"z\":[0.20704907178878784],\"type\":\"scatter3d\"},{\"hovertemplate\":\"color=old\\u003cbr\\u003e0=%{x}\\u003cbr\\u003e1=%{y}\\u003cbr\\u003e2=%{z}\\u003cextra\\u003e\\u003c\\u002fextra\\u003e\",\"legendgroup\":\"old\",\"marker\":{\"color\":\"#EF553B\",\"symbol\":\"circle\"},\"mode\":\"markers\",\"name\":\"old\",\"scene\":\"scene\",\"showlegend\":true,\"x\":[0.14531376957893372],\"y\":[0.3976379334926605],\"z\":[-0.005794093012809753],\"type\":\"scatter3d\"},{\"hovertemplate\":\"color=hand\\u003cbr\\u003e0=%{x}\\u003cbr\\u003e1=%{y}\\u003cbr\\u003e2=%{z}\\u003cextra\\u003e\\u003c\\u002fextra\\u003e\",\"legendgroup\":\"hand\",\"marker\":{\"color\":\"#00cc96\",\"symbol\":\"circle\"},\"mode\":\"markers\",\"name\":\"hand\",\"scene\":\"scene\",\"showlegend\":true,\"x\":[-0.0509926863014698],\"y\":[0.5374101400375366],\"z\":[0.4891319274902344],\"type\":\"scatter3d\"},{\"hovertemplate\":\"color=even\\u003cbr\\u003e0=%{x}\\u003cbr\\u003e1=%{y}\\u003cbr\\u003e2=%{z}\\u003cextra\\u003e\\u003c\\u002fextra\\u003e\",\"legendgroup\":\"even\",\"marker\":{\"color\":\"#ab63fa\",\"symbol\":\"circle\"},\"mode\":\"markers\",\"name\":\"even\",\"scene\":\"scene\",\"showlegend\":true,\"x\":[0.17900803685188293],\"y\":[0.5500492453575134],\"z\":[0.061495762318372726],\"type\":\"scatter3d\"},{\"hovertemplate\":\"color=too\\u003cbr\\u003e0=%{x}\\u003cbr\\u003e1=%{y}\\u003cbr\\u003e2=%{z}\\u003cextra\\u003e\\u003c\\u002fextra\\u003e\",\"legendgroup\":\"too\",\"marker\":{\"color\":\"#FFA15A\",\"symbol\":\"circle\"},\"mode\":\"markers\",\"name\":\"too\",\"scene\":\"scene\",\"showlegend\":true,\"x\":[0.23668579757213593],\"y\":[0.4938938617706299],\"z\":[0.2300707846879959],\"type\":\"scatter3d\"},{\"hovertemplate\":\"color=tyrion\\u003cbr\\u003e0=%{x}\\u003cbr\\u003e1=%{y}\\u003cbr\\u003e2=%{z}\\u003cextra\\u003e\\u003c\\u002fextra\\u003e\",\"legendgroup\":\"tyrion\",\"marker\":{\"color\":\"#19d3f3\",\"symbol\":\"circle\"},\"mode\":\"markers\",\"name\":\"tyrion\",\"scene\":\"scene\",\"showlegend\":true,\"x\":[0.12465087324380875],\"y\":[0.3034374415874481],\"z\":[0.369568794965744],\"type\":\"scatter3d\"},{\"hovertemplate\":\"color=before\\u003cbr\\u003e0=%{x}\\u003cbr\\u003e1=%{y}\\u003cbr\\u003e2=%{z}\\u003cextra\\u003e\\u003c\\u002fextra\\u003e\",\"legendgroup\":\"before\",\"marker\":{\"color\":\"#FF6692\",\"symbol\":\"circle\"},\"mode\":\"markers\",\"name\":\"before\",\"scene\":\"scene\",\"showlegend\":true,\"x\":[0.15082938969135284],\"y\":[0.6361157894134521],\"z\":[0.2616201937198639],\"type\":\"scatter3d\"},{\"hovertemplate\":\"color=never\\u003cbr\\u003e0=%{x}\\u003cbr\\u003e1=%{y}\\u003cbr\\u003e2=%{z}\\u003cextra\\u003e\\u003c\\u002fextra\\u003e\",\"legendgroup\":\"never\",\"marker\":{\"color\":\"#B6E880\",\"symbol\":\"circle\"},\"mode\":\"markers\",\"name\":\"never\",\"scene\":\"scene\",\"showlegend\":true,\"x\":[0.46912506222724915],\"y\":[0.5649691820144653],\"z\":[0.25129106640815735],\"type\":\"scatter3d\"},{\"hovertemplate\":\"color=an\\u003cbr\\u003e0=%{x}\\u003cbr\\u003e1=%{y}\\u003cbr\\u003e2=%{z}\\u003cextra\\u003e\\u003c\\u002fextra\\u003e\",\"legendgroup\":\"an\",\"marker\":{\"color\":\"#FF97FF\",\"symbol\":\"circle\"},\"mode\":\"markers\",\"name\":\"an\",\"scene\":\"scene\",\"showlegend\":true,\"x\":[0.05579117313027382],\"y\":[0.3726612627506256],\"z\":[0.09236305952072144],\"type\":\"scatter3d\"},{\"hovertemplate\":\"color=off\\u003cbr\\u003e0=%{x}\\u003cbr\\u003e1=%{y}\\u003cbr\\u003e2=%{z}\\u003cextra\\u003e\\u003c\\u002fextra\\u003e\",\"legendgroup\":\"off\",\"marker\":{\"color\":\"#FECB52\",\"symbol\":\"circle\"},\"mode\":\"markers\",\"name\":\"off\",\"scene\":\"scene\",\"showlegend\":true,\"x\":[-0.2902439832687378],\"y\":[0.41434428095817566],\"z\":[0.44086572527885437],\"type\":\"scatter3d\"},{\"hovertemplate\":\"color=see\\u003cbr\\u003e0=%{x}\\u003cbr\\u003e1=%{y}\\u003cbr\\u003e2=%{z}\\u003cextra\\u003e\\u003c\\u002fextra\\u003e\",\"legendgroup\":\"see\",\"marker\":{\"color\":\"#636efa\",\"symbol\":\"circle\"},\"mode\":\"markers\",\"name\":\"see\",\"scene\":\"scene\",\"showlegend\":true,\"x\":[0.1681894063949585],\"y\":[0.6419110298156738],\"z\":[0.36014312505722046],\"type\":\"scatter3d\"},{\"hovertemplate\":\"color=know\\u003cbr\\u003e0=%{x}\\u003cbr\\u003e1=%{y}\\u003cbr\\u003e2=%{z}\\u003cextra\\u003e\\u003c\\u002fextra\\u003e\",\"legendgroup\":\"know\",\"marker\":{\"color\":\"#EF553B\",\"symbol\":\"circle\"},\"mode\":\"markers\",\"name\":\"know\",\"scene\":\"scene\",\"showlegend\":true,\"x\":[0.5570432543754578],\"y\":[0.550739586353302],\"z\":[0.2087591141462326],\"type\":\"scatter3d\"},{\"hovertemplate\":\"color=into\\u003cbr\\u003e0=%{x}\\u003cbr\\u003e1=%{y}\\u003cbr\\u003e2=%{z}\\u003cextra\\u003e\\u003c\\u002fextra\\u003e\",\"legendgroup\":\"into\",\"marker\":{\"color\":\"#00cc96\",\"symbol\":\"circle\"},\"mode\":\"markers\",\"name\":\"into\",\"scene\":\"scene\",\"showlegend\":true,\"x\":[-0.3840199112892151],\"y\":[0.3943932354450226],\"z\":[0.38927996158599854],\"type\":\"scatter3d\"},{\"hovertemplate\":\"color=made\\u003cbr\\u003e0=%{x}\\u003cbr\\u003e1=%{y}\\u003cbr\\u003e2=%{z}\\u003cextra\\u003e\\u003c\\u002fextra\\u003e\",\"legendgroup\":\"made\",\"marker\":{\"color\":\"#ab63fa\",\"symbol\":\"circle\"},\"mode\":\"markers\",\"name\":\"made\",\"scene\":\"scene\",\"showlegend\":true,\"x\":[0.049546245485544205],\"y\":[0.36207935214042664],\"z\":[0.39066243171691895],\"type\":\"scatter3d\"},{\"hovertemplate\":\"color=now\\u003cbr\\u003e0=%{x}\\u003cbr\\u003e1=%{y}\\u003cbr\\u003e2=%{z}\\u003cextra\\u003e\\u003c\\u002fextra\\u003e\",\"legendgroup\":\"now\",\"marker\":{\"color\":\"#FFA15A\",\"symbol\":\"circle\"},\"mode\":\"markers\",\"name\":\"now\",\"scene\":\"scene\",\"showlegend\":true,\"x\":[0.34867924451828003],\"y\":[0.6662741899490356],\"z\":[0.18044652044773102],\"type\":\"scatter3d\"},{\"hovertemplate\":\"color=eyes\\u003cbr\\u003e0=%{x}\\u003cbr\\u003e1=%{y}\\u003cbr\\u003e2=%{z}\\u003cextra\\u003e\\u003c\\u002fextra\\u003e\",\"legendgroup\":\"eyes\",\"marker\":{\"color\":\"#19d3f3\",\"symbol\":\"circle\"},\"mode\":\"markers\",\"name\":\"eyes\",\"scene\":\"scene\",\"showlegend\":true,\"x\":[-0.16386064887046814],\"y\":[0.5061776638031006],\"z\":[0.3971939980983734],\"type\":\"scatter3d\"},{\"hovertemplate\":\"color=black\\u003cbr\\u003e0=%{x}\\u003cbr\\u003e1=%{y}\\u003cbr\\u003e2=%{z}\\u003cextra\\u003e\\u003c\\u002fextra\\u003e\",\"legendgroup\":\"black\",\"marker\":{\"color\":\"#FF6692\",\"symbol\":\"circle\"},\"mode\":\"markers\",\"name\":\"black\",\"scene\":\"scene\",\"showlegend\":true,\"x\":[-0.36897507309913635],\"y\":[0.3726542294025421],\"z\":[-0.06738107651472092],\"type\":\"scatter3d\"},{\"hovertemplate\":\"color=told\\u003cbr\\u003e0=%{x}\\u003cbr\\u003e1=%{y}\\u003cbr\\u003e2=%{z}\\u003cextra\\u003e\\u003c\\u002fextra\\u003e\",\"legendgroup\":\"told\",\"marker\":{\"color\":\"#B6E880\",\"symbol\":\"circle\"},\"mode\":\"markers\",\"name\":\"told\",\"scene\":\"scene\",\"showlegend\":true,\"x\":[0.47260987758636475],\"y\":[0.5412189364433289],\"z\":[0.4550395905971527],\"type\":\"scatter3d\"},{\"hovertemplate\":\"color=lady\\u003cbr\\u003e0=%{x}\\u003cbr\\u003e1=%{y}\\u003cbr\\u003e2=%{z}\\u003cextra\\u003e\\u003c\\u002fextra\\u003e\",\"legendgroup\":\"lady\",\"marker\":{\"color\":\"#FF97FF\",\"symbol\":\"circle\"},\"mode\":\"markers\",\"name\":\"lady\",\"scene\":\"scene\",\"showlegend\":true,\"x\":[0.5435834527015686],\"y\":[0.34890955686569214],\"z\":[0.19355587661266327],\"type\":\"scatter3d\"},{\"hovertemplate\":\"color=thought\\u003cbr\\u003e0=%{x}\\u003cbr\\u003e1=%{y}\\u003cbr\\u003e2=%{z}\\u003cextra\\u003e\\u003c\\u002fextra\\u003e\",\"legendgroup\":\"thought\",\"marker\":{\"color\":\"#FECB52\",\"symbol\":\"circle\"},\"mode\":\"markers\",\"name\":\"thought\",\"scene\":\"scene\",\"showlegend\":true,\"x\":[0.36281049251556396],\"y\":[0.5715284943580627],\"z\":[0.5063803195953369],\"type\":\"scatter3d\"},{\"hovertemplate\":\"color=time\\u003cbr\\u003e0=%{x}\\u003cbr\\u003e1=%{y}\\u003cbr\\u003e2=%{z}\\u003cextra\\u003e\\u003c\\u002fextra\\u003e\",\"legendgroup\":\"time\",\"marker\":{\"color\":\"#636efa\",\"symbol\":\"circle\"},\"mode\":\"markers\",\"name\":\"time\",\"scene\":\"scene\",\"showlegend\":true,\"x\":[0.06987983733415604],\"y\":[0.700221061706543],\"z\":[0.3163566291332245],\"type\":\"scatter3d\"},{\"hovertemplate\":\"color=then\\u003cbr\\u003e0=%{x}\\u003cbr\\u003e1=%{y}\\u003cbr\\u003e2=%{z}\\u003cextra\\u003e\\u003c\\u002fextra\\u003e\",\"legendgroup\":\"then\",\"marker\":{\"color\":\"#EF553B\",\"symbol\":\"circle\"},\"mode\":\"markers\",\"name\":\"then\",\"scene\":\"scene\",\"showlegend\":true,\"x\":[-0.08357842266559601],\"y\":[0.5357449650764465],\"z\":[0.4928921163082123],\"type\":\"scatter3d\"},{\"hovertemplate\":\"color=how\\u003cbr\\u003e0=%{x}\\u003cbr\\u003e1=%{y}\\u003cbr\\u003e2=%{z}\\u003cextra\\u003e\\u003c\\u002fextra\\u003e\",\"legendgroup\":\"how\",\"marker\":{\"color\":\"#00cc96\",\"symbol\":\"circle\"},\"mode\":\"markers\",\"name\":\"how\",\"scene\":\"scene\",\"showlegend\":true,\"x\":[0.38264694809913635],\"y\":[0.5630387663841248],\"z\":[0.21457600593566895],\"type\":\"scatter3d\"},{\"hovertemplate\":\"color=long\\u003cbr\\u003e0=%{x}\\u003cbr\\u003e1=%{y}\\u003cbr\\u003e2=%{z}\\u003cextra\\u003e\\u003c\\u002fextra\\u003e\",\"legendgroup\":\"long\",\"marker\":{\"color\":\"#ab63fa\",\"symbol\":\"circle\"},\"mode\":\"markers\",\"name\":\"long\",\"scene\":\"scene\",\"showlegend\":true,\"x\":[-0.1354108303785324],\"y\":[0.5278659462928772],\"z\":[0.08530417829751968],\"type\":\"scatter3d\"},{\"hovertemplate\":\"color=has\\u003cbr\\u003e0=%{x}\\u003cbr\\u003e1=%{y}\\u003cbr\\u003e2=%{z}\\u003cextra\\u003e\\u003c\\u002fextra\\u003e\",\"legendgroup\":\"has\",\"marker\":{\"color\":\"#FFA15A\",\"symbol\":\"circle\"},\"mode\":\"markers\",\"name\":\"has\",\"scene\":\"scene\",\"showlegend\":true,\"x\":[0.5311912298202515],\"y\":[0.48750433325767517],\"z\":[0.08027009665966034],\"type\":\"scatter3d\"},{\"hovertemplate\":\"color=can\\u003cbr\\u003e0=%{x}\\u003cbr\\u003e1=%{y}\\u003cbr\\u003e2=%{z}\\u003cextra\\u003e\\u003c\\u002fextra\\u003e\",\"legendgroup\":\"can\",\"marker\":{\"color\":\"#19d3f3\",\"symbol\":\"circle\"},\"mode\":\"markers\",\"name\":\"can\",\"scene\":\"scene\",\"showlegend\":true,\"x\":[0.41660377383232117],\"y\":[0.4809876084327698],\"z\":[0.18857403099536896],\"type\":\"scatter3d\"},{\"hovertemplate\":\"color=might\\u003cbr\\u003e0=%{x}\\u003cbr\\u003e1=%{y}\\u003cbr\\u003e2=%{z}\\u003cextra\\u003e\\u003c\\u002fextra\\u003e\",\"legendgroup\":\"might\",\"marker\":{\"color\":\"#FF6692\",\"symbol\":\"circle\"},\"mode\":\"markers\",\"name\":\"might\",\"scene\":\"scene\",\"showlegend\":true,\"x\":[0.41823190450668335],\"y\":[0.4737493693828583],\"z\":[0.2039545476436615],\"type\":\"scatter3d\"},{\"hovertemplate\":\"color=us\\u003cbr\\u003e0=%{x}\\u003cbr\\u003e1=%{y}\\u003cbr\\u003e2=%{z}\\u003cextra\\u003e\\u003c\\u002fextra\\u003e\",\"legendgroup\":\"us\",\"marker\":{\"color\":\"#B6E880\",\"symbol\":\"circle\"},\"mode\":\"markers\",\"name\":\"us\",\"scene\":\"scene\",\"showlegend\":true,\"x\":[0.44645974040031433],\"y\":[0.7235026955604553],\"z\":[-0.07646150141954422],\"type\":\"scatter3d\"},{\"hovertemplate\":\"color=come\\u003cbr\\u003e0=%{x}\\u003cbr\\u003e1=%{y}\\u003cbr\\u003e2=%{z}\\u003cextra\\u003e\\u003c\\u002fextra\\u003e\",\"legendgroup\":\"come\",\"marker\":{\"color\":\"#FF97FF\",\"symbol\":\"circle\"},\"mode\":\"markers\",\"name\":\"come\",\"scene\":\"scene\",\"showlegend\":true,\"x\":[0.33049464225769043],\"y\":[0.783406138420105],\"z\":[0.2377273589372635],\"type\":\"scatter3d\"},{\"hovertemplate\":\"color=where\\u003cbr\\u003e0=%{x}\\u003cbr\\u003e1=%{y}\\u003cbr\\u003e2=%{z}\\u003cextra\\u003e\\u003c\\u002fextra\\u003e\",\"legendgroup\":\"where\",\"marker\":{\"color\":\"#FECB52\",\"symbol\":\"circle\"},\"mode\":\"markers\",\"name\":\"where\",\"scene\":\"scene\",\"showlegend\":true,\"x\":[-0.14420978724956512],\"y\":[0.6295533180236816],\"z\":[0.0612204372882843],\"type\":\"scatter3d\"}],                        {\"template\":{\"data\":{\"histogram2dcontour\":[{\"type\":\"histogram2dcontour\",\"colorbar\":{\"outlinewidth\":0,\"ticks\":\"\"},\"colorscale\":[[0.0,\"#0d0887\"],[0.1111111111111111,\"#46039f\"],[0.2222222222222222,\"#7201a8\"],[0.3333333333333333,\"#9c179e\"],[0.4444444444444444,\"#bd3786\"],[0.5555555555555556,\"#d8576b\"],[0.6666666666666666,\"#ed7953\"],[0.7777777777777778,\"#fb9f3a\"],[0.8888888888888888,\"#fdca26\"],[1.0,\"#f0f921\"]]}],\"choropleth\":[{\"type\":\"choropleth\",\"colorbar\":{\"outlinewidth\":0,\"ticks\":\"\"}}],\"histogram2d\":[{\"type\":\"histogram2d\",\"colorbar\":{\"outlinewidth\":0,\"ticks\":\"\"},\"colorscale\":[[0.0,\"#0d0887\"],[0.1111111111111111,\"#46039f\"],[0.2222222222222222,\"#7201a8\"],[0.3333333333333333,\"#9c179e\"],[0.4444444444444444,\"#bd3786\"],[0.5555555555555556,\"#d8576b\"],[0.6666666666666666,\"#ed7953\"],[0.7777777777777778,\"#fb9f3a\"],[0.8888888888888888,\"#fdca26\"],[1.0,\"#f0f921\"]]}],\"heatmap\":[{\"type\":\"heatmap\",\"colorbar\":{\"outlinewidth\":0,\"ticks\":\"\"},\"colorscale\":[[0.0,\"#0d0887\"],[0.1111111111111111,\"#46039f\"],[0.2222222222222222,\"#7201a8\"],[0.3333333333333333,\"#9c179e\"],[0.4444444444444444,\"#bd3786\"],[0.5555555555555556,\"#d8576b\"],[0.6666666666666666,\"#ed7953\"],[0.7777777777777778,\"#fb9f3a\"],[0.8888888888888888,\"#fdca26\"],[1.0,\"#f0f921\"]]}],\"heatmapgl\":[{\"type\":\"heatmapgl\",\"colorbar\":{\"outlinewidth\":0,\"ticks\":\"\"},\"colorscale\":[[0.0,\"#0d0887\"],[0.1111111111111111,\"#46039f\"],[0.2222222222222222,\"#7201a8\"],[0.3333333333333333,\"#9c179e\"],[0.4444444444444444,\"#bd3786\"],[0.5555555555555556,\"#d8576b\"],[0.6666666666666666,\"#ed7953\"],[0.7777777777777778,\"#fb9f3a\"],[0.8888888888888888,\"#fdca26\"],[1.0,\"#f0f921\"]]}],\"contourcarpet\":[{\"type\":\"contourcarpet\",\"colorbar\":{\"outlinewidth\":0,\"ticks\":\"\"}}],\"contour\":[{\"type\":\"contour\",\"colorbar\":{\"outlinewidth\":0,\"ticks\":\"\"},\"colorscale\":[[0.0,\"#0d0887\"],[0.1111111111111111,\"#46039f\"],[0.2222222222222222,\"#7201a8\"],[0.3333333333333333,\"#9c179e\"],[0.4444444444444444,\"#bd3786\"],[0.5555555555555556,\"#d8576b\"],[0.6666666666666666,\"#ed7953\"],[0.7777777777777778,\"#fb9f3a\"],[0.8888888888888888,\"#fdca26\"],[1.0,\"#f0f921\"]]}],\"surface\":[{\"type\":\"surface\",\"colorbar\":{\"outlinewidth\":0,\"ticks\":\"\"},\"colorscale\":[[0.0,\"#0d0887\"],[0.1111111111111111,\"#46039f\"],[0.2222222222222222,\"#7201a8\"],[0.3333333333333333,\"#9c179e\"],[0.4444444444444444,\"#bd3786\"],[0.5555555555555556,\"#d8576b\"],[0.6666666666666666,\"#ed7953\"],[0.7777777777777778,\"#fb9f3a\"],[0.8888888888888888,\"#fdca26\"],[1.0,\"#f0f921\"]]}],\"mesh3d\":[{\"type\":\"mesh3d\",\"colorbar\":{\"outlinewidth\":0,\"ticks\":\"\"}}],\"scatter\":[{\"fillpattern\":{\"fillmode\":\"overlay\",\"size\":10,\"solidity\":0.2},\"type\":\"scatter\"}],\"parcoords\":[{\"type\":\"parcoords\",\"line\":{\"colorbar\":{\"outlinewidth\":0,\"ticks\":\"\"}}}],\"scatterpolargl\":[{\"type\":\"scatterpolargl\",\"marker\":{\"colorbar\":{\"outlinewidth\":0,\"ticks\":\"\"}}}],\"bar\":[{\"error_x\":{\"color\":\"#2a3f5f\"},\"error_y\":{\"color\":\"#2a3f5f\"},\"marker\":{\"line\":{\"color\":\"#E5ECF6\",\"width\":0.5},\"pattern\":{\"fillmode\":\"overlay\",\"size\":10,\"solidity\":0.2}},\"type\":\"bar\"}],\"scattergeo\":[{\"type\":\"scattergeo\",\"marker\":{\"colorbar\":{\"outlinewidth\":0,\"ticks\":\"\"}}}],\"scatterpolar\":[{\"type\":\"scatterpolar\",\"marker\":{\"colorbar\":{\"outlinewidth\":0,\"ticks\":\"\"}}}],\"histogram\":[{\"marker\":{\"pattern\":{\"fillmode\":\"overlay\",\"size\":10,\"solidity\":0.2}},\"type\":\"histogram\"}],\"scattergl\":[{\"type\":\"scattergl\",\"marker\":{\"colorbar\":{\"outlinewidth\":0,\"ticks\":\"\"}}}],\"scatter3d\":[{\"type\":\"scatter3d\",\"line\":{\"colorbar\":{\"outlinewidth\":0,\"ticks\":\"\"}},\"marker\":{\"colorbar\":{\"outlinewidth\":0,\"ticks\":\"\"}}}],\"scattermapbox\":[{\"type\":\"scattermapbox\",\"marker\":{\"colorbar\":{\"outlinewidth\":0,\"ticks\":\"\"}}}],\"scatterternary\":[{\"type\":\"scatterternary\",\"marker\":{\"colorbar\":{\"outlinewidth\":0,\"ticks\":\"\"}}}],\"scattercarpet\":[{\"type\":\"scattercarpet\",\"marker\":{\"colorbar\":{\"outlinewidth\":0,\"ticks\":\"\"}}}],\"carpet\":[{\"aaxis\":{\"endlinecolor\":\"#2a3f5f\",\"gridcolor\":\"white\",\"linecolor\":\"white\",\"minorgridcolor\":\"white\",\"startlinecolor\":\"#2a3f5f\"},\"baxis\":{\"endlinecolor\":\"#2a3f5f\",\"gridcolor\":\"white\",\"linecolor\":\"white\",\"minorgridcolor\":\"white\",\"startlinecolor\":\"#2a3f5f\"},\"type\":\"carpet\"}],\"table\":[{\"cells\":{\"fill\":{\"color\":\"#EBF0F8\"},\"line\":{\"color\":\"white\"}},\"header\":{\"fill\":{\"color\":\"#C8D4E3\"},\"line\":{\"color\":\"white\"}},\"type\":\"table\"}],\"barpolar\":[{\"marker\":{\"line\":{\"color\":\"#E5ECF6\",\"width\":0.5},\"pattern\":{\"fillmode\":\"overlay\",\"size\":10,\"solidity\":0.2}},\"type\":\"barpolar\"}],\"pie\":[{\"automargin\":true,\"type\":\"pie\"}]},\"layout\":{\"autotypenumbers\":\"strict\",\"colorway\":[\"#636efa\",\"#EF553B\",\"#00cc96\",\"#ab63fa\",\"#FFA15A\",\"#19d3f3\",\"#FF6692\",\"#B6E880\",\"#FF97FF\",\"#FECB52\"],\"font\":{\"color\":\"#2a3f5f\"},\"hovermode\":\"closest\",\"hoverlabel\":{\"align\":\"left\"},\"paper_bgcolor\":\"white\",\"plot_bgcolor\":\"#E5ECF6\",\"polar\":{\"bgcolor\":\"#E5ECF6\",\"angularaxis\":{\"gridcolor\":\"white\",\"linecolor\":\"white\",\"ticks\":\"\"},\"radialaxis\":{\"gridcolor\":\"white\",\"linecolor\":\"white\",\"ticks\":\"\"}},\"ternary\":{\"bgcolor\":\"#E5ECF6\",\"aaxis\":{\"gridcolor\":\"white\",\"linecolor\":\"white\",\"ticks\":\"\"},\"baxis\":{\"gridcolor\":\"white\",\"linecolor\":\"white\",\"ticks\":\"\"},\"caxis\":{\"gridcolor\":\"white\",\"linecolor\":\"white\",\"ticks\":\"\"}},\"coloraxis\":{\"colorbar\":{\"outlinewidth\":0,\"ticks\":\"\"}},\"colorscale\":{\"sequential\":[[0.0,\"#0d0887\"],[0.1111111111111111,\"#46039f\"],[0.2222222222222222,\"#7201a8\"],[0.3333333333333333,\"#9c179e\"],[0.4444444444444444,\"#bd3786\"],[0.5555555555555556,\"#d8576b\"],[0.6666666666666666,\"#ed7953\"],[0.7777777777777778,\"#fb9f3a\"],[0.8888888888888888,\"#fdca26\"],[1.0,\"#f0f921\"]],\"sequentialminus\":[[0.0,\"#0d0887\"],[0.1111111111111111,\"#46039f\"],[0.2222222222222222,\"#7201a8\"],[0.3333333333333333,\"#9c179e\"],[0.4444444444444444,\"#bd3786\"],[0.5555555555555556,\"#d8576b\"],[0.6666666666666666,\"#ed7953\"],[0.7777777777777778,\"#fb9f3a\"],[0.8888888888888888,\"#fdca26\"],[1.0,\"#f0f921\"]],\"diverging\":[[0,\"#8e0152\"],[0.1,\"#c51b7d\"],[0.2,\"#de77ae\"],[0.3,\"#f1b6da\"],[0.4,\"#fde0ef\"],[0.5,\"#f7f7f7\"],[0.6,\"#e6f5d0\"],[0.7,\"#b8e186\"],[0.8,\"#7fbc41\"],[0.9,\"#4d9221\"],[1,\"#276419\"]]},\"xaxis\":{\"gridcolor\":\"white\",\"linecolor\":\"white\",\"ticks\":\"\",\"title\":{\"standoff\":15},\"zerolinecolor\":\"white\",\"automargin\":true,\"zerolinewidth\":2},\"yaxis\":{\"gridcolor\":\"white\",\"linecolor\":\"white\",\"ticks\":\"\",\"title\":{\"standoff\":15},\"zerolinecolor\":\"white\",\"automargin\":true,\"zerolinewidth\":2},\"scene\":{\"xaxis\":{\"backgroundcolor\":\"#E5ECF6\",\"gridcolor\":\"white\",\"linecolor\":\"white\",\"showbackground\":true,\"ticks\":\"\",\"zerolinecolor\":\"white\",\"gridwidth\":2},\"yaxis\":{\"backgroundcolor\":\"#E5ECF6\",\"gridcolor\":\"white\",\"linecolor\":\"white\",\"showbackground\":true,\"ticks\":\"\",\"zerolinecolor\":\"white\",\"gridwidth\":2},\"zaxis\":{\"backgroundcolor\":\"#E5ECF6\",\"gridcolor\":\"white\",\"linecolor\":\"white\",\"showbackground\":true,\"ticks\":\"\",\"zerolinecolor\":\"white\",\"gridwidth\":2}},\"shapedefaults\":{\"line\":{\"color\":\"#2a3f5f\"}},\"annotationdefaults\":{\"arrowcolor\":\"#2a3f5f\",\"arrowhead\":0,\"arrowwidth\":1},\"geo\":{\"bgcolor\":\"white\",\"landcolor\":\"#E5ECF6\",\"subunitcolor\":\"white\",\"showland\":true,\"showlakes\":true,\"lakecolor\":\"white\"},\"title\":{\"x\":0.05},\"mapbox\":{\"style\":\"light\"}}},\"scene\":{\"domain\":{\"x\":[0.0,1.0],\"y\":[0.0,1.0]},\"xaxis\":{\"title\":{\"text\":\"0\"}},\"yaxis\":{\"title\":{\"text\":\"1\"}},\"zaxis\":{\"title\":{\"text\":\"2\"}}},\"legend\":{\"title\":{\"text\":\"color\"},\"tracegroupgap\":0},\"margin\":{\"t\":60}},                        {\"responsive\": true}                    ).then(function(){\n",
              "                            \n",
              "var gd = document.getElementById('ea23d70b-84aa-4493-b42e-b39e03350fe8');\n",
              "var x = new MutationObserver(function (mutations, observer) {{\n",
              "        var display = window.getComputedStyle(gd).display;\n",
              "        if (!display || display === 'none') {{\n",
              "            console.log([gd, 'removed!']);\n",
              "            Plotly.purge(gd);\n",
              "            observer.disconnect();\n",
              "        }}\n",
              "}});\n",
              "\n",
              "// Listen for the removal of the full notebook cells\n",
              "var notebookContainer = gd.closest('#notebook-container');\n",
              "if (notebookContainer) {{\n",
              "    x.observe(notebookContainer, {childList: true});\n",
              "}}\n",
              "\n",
              "// Listen for the clearing of the current output cell\n",
              "var outputEl = gd.closest('.output');\n",
              "if (outputEl) {{\n",
              "    x.observe(outputEl, {childList: true});\n",
              "}}\n",
              "\n",
              "                        })                };                            </script>        </div>\n",
              "</body>\n",
              "</html>"
            ]
          },
          "metadata": {}
        }
      ]
    },
    {
      "cell_type": "code",
      "source": [],
      "metadata": {
        "id": "CChF-YwSJl_E"
      },
      "execution_count": null,
      "outputs": []
    }
  ]
}